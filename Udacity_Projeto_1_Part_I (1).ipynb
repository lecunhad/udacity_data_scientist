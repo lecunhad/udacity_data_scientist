{
  "nbformat": 4,
  "nbformat_minor": 0,
  "metadata": {
    "colab": {
      "name": "Udacity - Projeto 1 - Part I.ipynb",
      "provenance": [],
      "collapsed_sections": [],
      "toc_visible": true
    },
    "kernelspec": {
      "name": "python3",
      "display_name": "Python 3"
    }
  },
  "cells": [
    {
      "cell_type": "markdown",
      "metadata": {
        "id": "DA3y3DwDOOnR"
      },
      "source": [
        "Database: Vancouver Airbnb\r\n",
        "Motivation: Support Brazilian students who wants to travel abroad to study English, in order to improve a best choice and improve the planner.\r\n",
        "Three business questions:\r\n",
        "- Can they spend less money at some specific season or period time of the year?\r\n",
        "- What are the accommodation information most correlated to price variation?\r\n",
        "- Is possible to predict the price for respective acomodation according it features? \r\n"
      ]
    },
    {
      "cell_type": "markdown",
      "metadata": {
        "id": "Qwcwjz1URnvu"
      },
      "source": [
        "This notebook will cover the first question"
      ]
    },
    {
      "cell_type": "code",
      "metadata": {
        "id": "c_h2zkl9Lumk"
      },
      "source": [
        "#importing some libraries to work with the data\r\n",
        "import pandas as pd\r\n",
        "import numpy as np\r\n",
        "import matplotlib.pyplot as plt\r\n",
        "%matplotlib inline\r\n",
        "\r\n",
        "import warnings\r\n",
        "import itertools\r\n",
        "warnings.filterwarnings(\"ignore\")\r\n",
        "plt.style.use('fivethirtyeight')\r\n",
        "import pandas as pd\r\n",
        "import statsmodels.api as sm\r\n",
        "import matplotlib\r\n",
        "matplotlib.rcParams['axes.labelsize'] = 14\r\n",
        "matplotlib.rcParams['xtick.labelsize'] = 12\r\n",
        "matplotlib.rcParams['ytick.labelsize'] = 12\r\n",
        "matplotlib.rcParams['text.color'] = 'k'\r\n"
      ],
      "execution_count": 1,
      "outputs": []
    },
    {
      "cell_type": "markdown",
      "metadata": {
        "id": "Rb5WEH7uRuus"
      },
      "source": [
        "After import some libraries, let's evaluate the content of databases sourced by Airbnb"
      ]
    },
    {
      "cell_type": "code",
      "metadata": {
        "id": "EFbA1u1RRJkG"
      },
      "source": [
        "bc_general = pd.read_csv(r'/content/drive/MyDrive/Vancouver/listings.csv')"
      ],
      "execution_count": 2,
      "outputs": []
    },
    {
      "cell_type": "code",
      "metadata": {
        "colab": {
          "base_uri": "https://localhost:8080/",
          "height": 539
        },
        "id": "lYEBRItiRUpZ",
        "outputId": "8c1f52ad-2f13-4bb5-a4a1-69c343e58de6"
      },
      "source": [
        "bc_general.head()\r\n"
      ],
      "execution_count": 3,
      "outputs": [
        {
          "output_type": "execute_result",
          "data": {
            "text/html": [
              "<div>\n",
              "<style scoped>\n",
              "    .dataframe tbody tr th:only-of-type {\n",
              "        vertical-align: middle;\n",
              "    }\n",
              "\n",
              "    .dataframe tbody tr th {\n",
              "        vertical-align: top;\n",
              "    }\n",
              "\n",
              "    .dataframe thead th {\n",
              "        text-align: right;\n",
              "    }\n",
              "</style>\n",
              "<table border=\"1\" class=\"dataframe\">\n",
              "  <thead>\n",
              "    <tr style=\"text-align: right;\">\n",
              "      <th></th>\n",
              "      <th>id</th>\n",
              "      <th>listing_url</th>\n",
              "      <th>scrape_id</th>\n",
              "      <th>last_scraped</th>\n",
              "      <th>name</th>\n",
              "      <th>description</th>\n",
              "      <th>neighborhood_overview</th>\n",
              "      <th>picture_url</th>\n",
              "      <th>host_id</th>\n",
              "      <th>host_url</th>\n",
              "      <th>host_name</th>\n",
              "      <th>host_since</th>\n",
              "      <th>host_location</th>\n",
              "      <th>host_about</th>\n",
              "      <th>host_response_time</th>\n",
              "      <th>host_response_rate</th>\n",
              "      <th>host_acceptance_rate</th>\n",
              "      <th>host_is_superhost</th>\n",
              "      <th>host_thumbnail_url</th>\n",
              "      <th>host_picture_url</th>\n",
              "      <th>host_neighbourhood</th>\n",
              "      <th>host_listings_count</th>\n",
              "      <th>host_total_listings_count</th>\n",
              "      <th>host_verifications</th>\n",
              "      <th>host_has_profile_pic</th>\n",
              "      <th>host_identity_verified</th>\n",
              "      <th>neighbourhood</th>\n",
              "      <th>neighbourhood_cleansed</th>\n",
              "      <th>neighbourhood_group_cleansed</th>\n",
              "      <th>latitude</th>\n",
              "      <th>longitude</th>\n",
              "      <th>property_type</th>\n",
              "      <th>room_type</th>\n",
              "      <th>accommodates</th>\n",
              "      <th>bathrooms</th>\n",
              "      <th>bathrooms_text</th>\n",
              "      <th>bedrooms</th>\n",
              "      <th>beds</th>\n",
              "      <th>amenities</th>\n",
              "      <th>price</th>\n",
              "      <th>minimum_nights</th>\n",
              "      <th>maximum_nights</th>\n",
              "      <th>minimum_minimum_nights</th>\n",
              "      <th>maximum_minimum_nights</th>\n",
              "      <th>minimum_maximum_nights</th>\n",
              "      <th>maximum_maximum_nights</th>\n",
              "      <th>minimum_nights_avg_ntm</th>\n",
              "      <th>maximum_nights_avg_ntm</th>\n",
              "      <th>calendar_updated</th>\n",
              "      <th>has_availability</th>\n",
              "      <th>availability_30</th>\n",
              "      <th>availability_60</th>\n",
              "      <th>availability_90</th>\n",
              "      <th>availability_365</th>\n",
              "      <th>calendar_last_scraped</th>\n",
              "      <th>number_of_reviews</th>\n",
              "      <th>number_of_reviews_ltm</th>\n",
              "      <th>number_of_reviews_l30d</th>\n",
              "      <th>first_review</th>\n",
              "      <th>last_review</th>\n",
              "      <th>review_scores_rating</th>\n",
              "      <th>review_scores_accuracy</th>\n",
              "      <th>review_scores_cleanliness</th>\n",
              "      <th>review_scores_checkin</th>\n",
              "      <th>review_scores_communication</th>\n",
              "      <th>review_scores_location</th>\n",
              "      <th>review_scores_value</th>\n",
              "      <th>license</th>\n",
              "      <th>instant_bookable</th>\n",
              "      <th>calculated_host_listings_count</th>\n",
              "      <th>calculated_host_listings_count_entire_homes</th>\n",
              "      <th>calculated_host_listings_count_private_rooms</th>\n",
              "      <th>calculated_host_listings_count_shared_rooms</th>\n",
              "      <th>reviews_per_month</th>\n",
              "    </tr>\n",
              "  </thead>\n",
              "  <tbody>\n",
              "    <tr>\n",
              "      <th>0</th>\n",
              "      <td>10080</td>\n",
              "      <td>https://www.airbnb.com/rooms/10080</td>\n",
              "      <td>20201106040232</td>\n",
              "      <td>2020-11-06</td>\n",
              "      <td>D1 -  Million Dollar View 2 BR</td>\n",
              "      <td>Stunning two bedroom, two bathroom apartment. ...</td>\n",
              "      <td>NaN</td>\n",
              "      <td>https://a0.muscache.com/pictures/55778229/c2f7...</td>\n",
              "      <td>30899</td>\n",
              "      <td>https://www.airbnb.com/users/show/30899</td>\n",
              "      <td>Rami</td>\n",
              "      <td>2009-08-10</td>\n",
              "      <td>Vancouver, British Columbia, Canada</td>\n",
              "      <td>I will be happy to host you.</td>\n",
              "      <td>within an hour</td>\n",
              "      <td>100%</td>\n",
              "      <td>92%</td>\n",
              "      <td>f</td>\n",
              "      <td>https://a0.muscache.com/im/pictures/user/55302...</td>\n",
              "      <td>https://a0.muscache.com/im/pictures/user/55302...</td>\n",
              "      <td>Coal Harbour</td>\n",
              "      <td>49</td>\n",
              "      <td>49</td>\n",
              "      <td>['email', 'phone', 'reviews', 'jumio', 'govern...</td>\n",
              "      <td>t</td>\n",
              "      <td>t</td>\n",
              "      <td>NaN</td>\n",
              "      <td>Downtown</td>\n",
              "      <td>NaN</td>\n",
              "      <td>49.28772</td>\n",
              "      <td>-123.12279</td>\n",
              "      <td>Entire condominium</td>\n",
              "      <td>Entire home/apt</td>\n",
              "      <td>5</td>\n",
              "      <td>NaN</td>\n",
              "      <td>2 baths</td>\n",
              "      <td>2.0</td>\n",
              "      <td>2.0</td>\n",
              "      <td>[\"Dishwasher\", \"TV\", \"Washer\", \"Cable TV\", \"El...</td>\n",
              "      <td>$150.00</td>\n",
              "      <td>90</td>\n",
              "      <td>1124</td>\n",
              "      <td>90</td>\n",
              "      <td>90</td>\n",
              "      <td>1124</td>\n",
              "      <td>1124</td>\n",
              "      <td>90.0</td>\n",
              "      <td>1124.0</td>\n",
              "      <td>NaN</td>\n",
              "      <td>t</td>\n",
              "      <td>4</td>\n",
              "      <td>34</td>\n",
              "      <td>64</td>\n",
              "      <td>339</td>\n",
              "      <td>2020-11-06</td>\n",
              "      <td>16</td>\n",
              "      <td>0</td>\n",
              "      <td>0</td>\n",
              "      <td>2011-11-15</td>\n",
              "      <td>2017-02-26</td>\n",
              "      <td>93.0</td>\n",
              "      <td>9.0</td>\n",
              "      <td>9.0</td>\n",
              "      <td>10.0</td>\n",
              "      <td>9.0</td>\n",
              "      <td>10.0</td>\n",
              "      <td>9.0</td>\n",
              "      <td>18-476608</td>\n",
              "      <td>f</td>\n",
              "      <td>46</td>\n",
              "      <td>46</td>\n",
              "      <td>0</td>\n",
              "      <td>0</td>\n",
              "      <td>0.15</td>\n",
              "    </tr>\n",
              "    <tr>\n",
              "      <th>1</th>\n",
              "      <td>13358</td>\n",
              "      <td>https://www.airbnb.com/rooms/13358</td>\n",
              "      <td>20201106040232</td>\n",
              "      <td>2020-11-06</td>\n",
              "      <td>Monthly (or Longer ) Designer One Bedroom Down...</td>\n",
              "      <td>&lt;b&gt;The space&lt;/b&gt;&lt;br /&gt;This suites central loca...</td>\n",
              "      <td>NaN</td>\n",
              "      <td>https://a0.muscache.com/pictures/c23bb7ef-e300...</td>\n",
              "      <td>52116</td>\n",
              "      <td>https://www.airbnb.com/users/show/52116</td>\n",
              "      <td>Lynn</td>\n",
              "      <td>2009-11-07</td>\n",
              "      <td>Vancouver, British Columbia, Canada</td>\n",
              "      <td>I am from Vancouver and in my free time enjoy ...</td>\n",
              "      <td>within a day</td>\n",
              "      <td>80%</td>\n",
              "      <td>83%</td>\n",
              "      <td>f</td>\n",
              "      <td>https://a0.muscache.com/defaults/user_pic-50x5...</td>\n",
              "      <td>https://a0.muscache.com/defaults/user_pic-225x...</td>\n",
              "      <td>Downtown Vancouver</td>\n",
              "      <td>1</td>\n",
              "      <td>1</td>\n",
              "      <td>['email', 'phone', 'facebook', 'reviews', 'jum...</td>\n",
              "      <td>f</td>\n",
              "      <td>t</td>\n",
              "      <td>NaN</td>\n",
              "      <td>West End</td>\n",
              "      <td>NaN</td>\n",
              "      <td>49.28209</td>\n",
              "      <td>-123.12515</td>\n",
              "      <td>Entire condominium</td>\n",
              "      <td>Entire home/apt</td>\n",
              "      <td>2</td>\n",
              "      <td>NaN</td>\n",
              "      <td>1 bath</td>\n",
              "      <td>1.0</td>\n",
              "      <td>1.0</td>\n",
              "      <td>[\"Dishwasher\", \"TV\", \"Washer\", \"Cable TV\", \"El...</td>\n",
              "      <td>$85.00</td>\n",
              "      <td>30</td>\n",
              "      <td>60</td>\n",
              "      <td>30</td>\n",
              "      <td>30</td>\n",
              "      <td>60</td>\n",
              "      <td>60</td>\n",
              "      <td>30.0</td>\n",
              "      <td>60.0</td>\n",
              "      <td>NaN</td>\n",
              "      <td>t</td>\n",
              "      <td>1</td>\n",
              "      <td>31</td>\n",
              "      <td>60</td>\n",
              "      <td>60</td>\n",
              "      <td>2020-11-06</td>\n",
              "      <td>429</td>\n",
              "      <td>2</td>\n",
              "      <td>0</td>\n",
              "      <td>2010-06-22</td>\n",
              "      <td>2020-10-03</td>\n",
              "      <td>93.0</td>\n",
              "      <td>9.0</td>\n",
              "      <td>10.0</td>\n",
              "      <td>9.0</td>\n",
              "      <td>10.0</td>\n",
              "      <td>10.0</td>\n",
              "      <td>9.0</td>\n",
              "      <td>18-611603</td>\n",
              "      <td>f</td>\n",
              "      <td>1</td>\n",
              "      <td>1</td>\n",
              "      <td>0</td>\n",
              "      <td>0</td>\n",
              "      <td>3.39</td>\n",
              "    </tr>\n",
              "    <tr>\n",
              "      <th>2</th>\n",
              "      <td>13490</td>\n",
              "      <td>https://www.airbnb.com/rooms/13490</td>\n",
              "      <td>20201106040232</td>\n",
              "      <td>2020-11-06</td>\n",
              "      <td>Vancouver's best kept secret</td>\n",
              "      <td>This apartment rents for one month blocks of t...</td>\n",
              "      <td>In the heart of Vancouver, this apartment has ...</td>\n",
              "      <td>https://a0.muscache.com/pictures/73394727/79d5...</td>\n",
              "      <td>52467</td>\n",
              "      <td>https://www.airbnb.com/users/show/52467</td>\n",
              "      <td>Iris</td>\n",
              "      <td>2009-11-08</td>\n",
              "      <td>Vancouver, British Columbia, Canada</td>\n",
              "      <td>Hello! My husband Fred and I are actors living...</td>\n",
              "      <td>within an hour</td>\n",
              "      <td>100%</td>\n",
              "      <td>83%</td>\n",
              "      <td>t</td>\n",
              "      <td>https://a0.muscache.com/im/users/52467/profile...</td>\n",
              "      <td>https://a0.muscache.com/im/users/52467/profile...</td>\n",
              "      <td>Kensington-Cedar Cottage</td>\n",
              "      <td>4</td>\n",
              "      <td>4</td>\n",
              "      <td>['email', 'phone', 'reviews', 'offline_governm...</td>\n",
              "      <td>t</td>\n",
              "      <td>t</td>\n",
              "      <td>Vancouver, British Columbia, Canada</td>\n",
              "      <td>Kensington-Cedar Cottage</td>\n",
              "      <td>NaN</td>\n",
              "      <td>49.25550</td>\n",
              "      <td>-123.06696</td>\n",
              "      <td>Entire apartment</td>\n",
              "      <td>Entire home/apt</td>\n",
              "      <td>2</td>\n",
              "      <td>NaN</td>\n",
              "      <td>1 bath</td>\n",
              "      <td>1.0</td>\n",
              "      <td>0.0</td>\n",
              "      <td>[\"Wifi\", \"Lake access\", \"TV\", \"Washer\", \"Fire ...</td>\n",
              "      <td>$145.00</td>\n",
              "      <td>30</td>\n",
              "      <td>90</td>\n",
              "      <td>30</td>\n",
              "      <td>30</td>\n",
              "      <td>90</td>\n",
              "      <td>90</td>\n",
              "      <td>30.0</td>\n",
              "      <td>90.0</td>\n",
              "      <td>NaN</td>\n",
              "      <td>t</td>\n",
              "      <td>5</td>\n",
              "      <td>35</td>\n",
              "      <td>62</td>\n",
              "      <td>281</td>\n",
              "      <td>2020-11-06</td>\n",
              "      <td>88</td>\n",
              "      <td>4</td>\n",
              "      <td>1</td>\n",
              "      <td>2011-06-02</td>\n",
              "      <td>2020-10-31</td>\n",
              "      <td>98.0</td>\n",
              "      <td>10.0</td>\n",
              "      <td>10.0</td>\n",
              "      <td>10.0</td>\n",
              "      <td>10.0</td>\n",
              "      <td>10.0</td>\n",
              "      <td>10.0</td>\n",
              "      <td>NaN</td>\n",
              "      <td>f</td>\n",
              "      <td>1</td>\n",
              "      <td>1</td>\n",
              "      <td>0</td>\n",
              "      <td>0</td>\n",
              "      <td>0.77</td>\n",
              "    </tr>\n",
              "    <tr>\n",
              "      <th>3</th>\n",
              "      <td>14267</td>\n",
              "      <td>https://www.airbnb.com/rooms/14267</td>\n",
              "      <td>20201106040232</td>\n",
              "      <td>2020-11-06</td>\n",
              "      <td>EcoLoft Vancouver</td>\n",
              "      <td>The Ecoloft is located in the lovely, family r...</td>\n",
              "      <td>We live in the centre of the city of Vancouver...</td>\n",
              "      <td>https://a0.muscache.com/pictures/3646de9b-934e...</td>\n",
              "      <td>56030</td>\n",
              "      <td>https://www.airbnb.com/users/show/56030</td>\n",
              "      <td>Peter &amp; Alison</td>\n",
              "      <td>2009-11-20</td>\n",
              "      <td>Vancouver, British Columbia, Canada</td>\n",
              "      <td>We moved into this central Vancouver location ...</td>\n",
              "      <td>within a day</td>\n",
              "      <td>100%</td>\n",
              "      <td>100%</td>\n",
              "      <td>f</td>\n",
              "      <td>https://a0.muscache.com/im/pictures/user/ab0a8...</td>\n",
              "      <td>https://a0.muscache.com/im/pictures/user/ab0a8...</td>\n",
              "      <td>Kensington-Cedar Cottage</td>\n",
              "      <td>1</td>\n",
              "      <td>1</td>\n",
              "      <td>['email', 'phone', 'reviews', 'offline_governm...</td>\n",
              "      <td>t</td>\n",
              "      <td>t</td>\n",
              "      <td>Vancouver, British Columbia, Canada</td>\n",
              "      <td>Kensington-Cedar Cottage</td>\n",
              "      <td>NaN</td>\n",
              "      <td>49.24974</td>\n",
              "      <td>-123.08108</td>\n",
              "      <td>Entire house</td>\n",
              "      <td>Entire home/apt</td>\n",
              "      <td>4</td>\n",
              "      <td>NaN</td>\n",
              "      <td>1 bath</td>\n",
              "      <td>1.0</td>\n",
              "      <td>2.0</td>\n",
              "      <td>[\"Dishwasher\", \"TV\", \"Washer\", \"Kitchen\", \"Ess...</td>\n",
              "      <td>$199.00</td>\n",
              "      <td>3</td>\n",
              "      <td>1125</td>\n",
              "      <td>3</td>\n",
              "      <td>3</td>\n",
              "      <td>1125</td>\n",
              "      <td>1125</td>\n",
              "      <td>3.0</td>\n",
              "      <td>1125.0</td>\n",
              "      <td>NaN</td>\n",
              "      <td>t</td>\n",
              "      <td>0</td>\n",
              "      <td>17</td>\n",
              "      <td>17</td>\n",
              "      <td>17</td>\n",
              "      <td>2020-11-06</td>\n",
              "      <td>33</td>\n",
              "      <td>2</td>\n",
              "      <td>0</td>\n",
              "      <td>2010-10-03</td>\n",
              "      <td>2020-02-07</td>\n",
              "      <td>95.0</td>\n",
              "      <td>10.0</td>\n",
              "      <td>9.0</td>\n",
              "      <td>10.0</td>\n",
              "      <td>9.0</td>\n",
              "      <td>10.0</td>\n",
              "      <td>9.0</td>\n",
              "      <td>18-554072</td>\n",
              "      <td>t</td>\n",
              "      <td>1</td>\n",
              "      <td>1</td>\n",
              "      <td>0</td>\n",
              "      <td>0</td>\n",
              "      <td>0.27</td>\n",
              "    </tr>\n",
              "    <tr>\n",
              "      <th>4</th>\n",
              "      <td>16254</td>\n",
              "      <td>https://www.airbnb.com/rooms/16254</td>\n",
              "      <td>20201106040232</td>\n",
              "      <td>2020-11-06</td>\n",
              "      <td>Close to PNE/Hastings Park and East Village</td>\n",
              "      <td>2 Bedroom garden level guest suite.(lower leve...</td>\n",
              "      <td>Good Eats, Cute Shops and all the personality ...</td>\n",
              "      <td>https://a0.muscache.com/pictures/90623667/583c...</td>\n",
              "      <td>63238</td>\n",
              "      <td>https://www.airbnb.com/users/show/63238</td>\n",
              "      <td>Jason</td>\n",
              "      <td>2009-12-15</td>\n",
              "      <td>Vancouver, British Columbia, Canada</td>\n",
              "      <td>NaN</td>\n",
              "      <td>NaN</td>\n",
              "      <td>NaN</td>\n",
              "      <td>NaN</td>\n",
              "      <td>f</td>\n",
              "      <td>https://a0.muscache.com/im/pictures/user/f00ba...</td>\n",
              "      <td>https://a0.muscache.com/im/pictures/user/f00ba...</td>\n",
              "      <td>Hastings-Sunrise</td>\n",
              "      <td>1</td>\n",
              "      <td>1</td>\n",
              "      <td>['phone', 'facebook', 'offline_government_id',...</td>\n",
              "      <td>t</td>\n",
              "      <td>t</td>\n",
              "      <td>Vancouver, British Columbia, Canada</td>\n",
              "      <td>Hastings-Sunrise</td>\n",
              "      <td>NaN</td>\n",
              "      <td>49.27734</td>\n",
              "      <td>-123.04152</td>\n",
              "      <td>Entire guest suite</td>\n",
              "      <td>Entire home/apt</td>\n",
              "      <td>4</td>\n",
              "      <td>NaN</td>\n",
              "      <td>1 bath</td>\n",
              "      <td>2.0</td>\n",
              "      <td>3.0</td>\n",
              "      <td>[\"Washer\", \"Carbon monoxide alarm\", \"Kitchen\",...</td>\n",
              "      <td>$195.00</td>\n",
              "      <td>3</td>\n",
              "      <td>31</td>\n",
              "      <td>3</td>\n",
              "      <td>3</td>\n",
              "      <td>1125</td>\n",
              "      <td>1125</td>\n",
              "      <td>3.0</td>\n",
              "      <td>1125.0</td>\n",
              "      <td>NaN</td>\n",
              "      <td>t</td>\n",
              "      <td>0</td>\n",
              "      <td>0</td>\n",
              "      <td>0</td>\n",
              "      <td>132</td>\n",
              "      <td>2020-11-06</td>\n",
              "      <td>5</td>\n",
              "      <td>0</td>\n",
              "      <td>0</td>\n",
              "      <td>2018-08-04</td>\n",
              "      <td>2019-08-19</td>\n",
              "      <td>96.0</td>\n",
              "      <td>10.0</td>\n",
              "      <td>10.0</td>\n",
              "      <td>10.0</td>\n",
              "      <td>10.0</td>\n",
              "      <td>10.0</td>\n",
              "      <td>9.0</td>\n",
              "      <td>19-162421</td>\n",
              "      <td>t</td>\n",
              "      <td>1</td>\n",
              "      <td>1</td>\n",
              "      <td>0</td>\n",
              "      <td>0</td>\n",
              "      <td>0.18</td>\n",
              "    </tr>\n",
              "  </tbody>\n",
              "</table>\n",
              "</div>"
            ],
            "text/plain": [
              "      id  ... reviews_per_month\n",
              "0  10080  ...              0.15\n",
              "1  13358  ...              3.39\n",
              "2  13490  ...              0.77\n",
              "3  14267  ...              0.27\n",
              "4  16254  ...              0.18\n",
              "\n",
              "[5 rows x 74 columns]"
            ]
          },
          "metadata": {
            "tags": []
          },
          "execution_count": 3
        }
      ]
    },
    {
      "cell_type": "code",
      "metadata": {
        "id": "QGX8H5cyRtjL"
      },
      "source": [
        "bc_calendar = pd.read_csv(r'/content/drive/MyDrive/Vancouver/calendar.csv')"
      ],
      "execution_count": 4,
      "outputs": []
    },
    {
      "cell_type": "code",
      "metadata": {
        "colab": {
          "base_uri": "https://localhost:8080/",
          "height": 331
        },
        "id": "igy7Tg-VR3sv",
        "outputId": "546adcf7-cfc5-4a94-d6aa-8cf05c8cd496"
      },
      "source": [
        "bc_calendar.head(10)"
      ],
      "execution_count": 5,
      "outputs": [
        {
          "output_type": "execute_result",
          "data": {
            "text/html": [
              "<div>\n",
              "<style scoped>\n",
              "    .dataframe tbody tr th:only-of-type {\n",
              "        vertical-align: middle;\n",
              "    }\n",
              "\n",
              "    .dataframe tbody tr th {\n",
              "        vertical-align: top;\n",
              "    }\n",
              "\n",
              "    .dataframe thead th {\n",
              "        text-align: right;\n",
              "    }\n",
              "</style>\n",
              "<table border=\"1\" class=\"dataframe\">\n",
              "  <thead>\n",
              "    <tr style=\"text-align: right;\">\n",
              "      <th></th>\n",
              "      <th>listing_id</th>\n",
              "      <th>date</th>\n",
              "      <th>available</th>\n",
              "      <th>price</th>\n",
              "      <th>adjusted_price</th>\n",
              "      <th>minimum_nights</th>\n",
              "      <th>maximum_nights</th>\n",
              "    </tr>\n",
              "  </thead>\n",
              "  <tbody>\n",
              "    <tr>\n",
              "      <th>0</th>\n",
              "      <td>2003897</td>\n",
              "      <td>2020-11-06</td>\n",
              "      <td>f</td>\n",
              "      <td>$120.00</td>\n",
              "      <td>$120.00</td>\n",
              "      <td>120</td>\n",
              "      <td>1125</td>\n",
              "    </tr>\n",
              "    <tr>\n",
              "      <th>1</th>\n",
              "      <td>13358</td>\n",
              "      <td>2020-11-06</td>\n",
              "      <td>f</td>\n",
              "      <td>$85.00</td>\n",
              "      <td>$85.00</td>\n",
              "      <td>30</td>\n",
              "      <td>60</td>\n",
              "    </tr>\n",
              "    <tr>\n",
              "      <th>2</th>\n",
              "      <td>13358</td>\n",
              "      <td>2020-11-07</td>\n",
              "      <td>f</td>\n",
              "      <td>$85.00</td>\n",
              "      <td>$85.00</td>\n",
              "      <td>30</td>\n",
              "      <td>60</td>\n",
              "    </tr>\n",
              "    <tr>\n",
              "      <th>3</th>\n",
              "      <td>13358</td>\n",
              "      <td>2020-11-08</td>\n",
              "      <td>f</td>\n",
              "      <td>$85.00</td>\n",
              "      <td>$85.00</td>\n",
              "      <td>30</td>\n",
              "      <td>60</td>\n",
              "    </tr>\n",
              "    <tr>\n",
              "      <th>4</th>\n",
              "      <td>13358</td>\n",
              "      <td>2020-11-09</td>\n",
              "      <td>f</td>\n",
              "      <td>$85.00</td>\n",
              "      <td>$85.00</td>\n",
              "      <td>30</td>\n",
              "      <td>60</td>\n",
              "    </tr>\n",
              "    <tr>\n",
              "      <th>5</th>\n",
              "      <td>13358</td>\n",
              "      <td>2020-11-10</td>\n",
              "      <td>f</td>\n",
              "      <td>$85.00</td>\n",
              "      <td>$85.00</td>\n",
              "      <td>30</td>\n",
              "      <td>60</td>\n",
              "    </tr>\n",
              "    <tr>\n",
              "      <th>6</th>\n",
              "      <td>13358</td>\n",
              "      <td>2020-11-11</td>\n",
              "      <td>f</td>\n",
              "      <td>$85.00</td>\n",
              "      <td>$85.00</td>\n",
              "      <td>30</td>\n",
              "      <td>60</td>\n",
              "    </tr>\n",
              "    <tr>\n",
              "      <th>7</th>\n",
              "      <td>13358</td>\n",
              "      <td>2020-11-12</td>\n",
              "      <td>f</td>\n",
              "      <td>$85.00</td>\n",
              "      <td>$85.00</td>\n",
              "      <td>30</td>\n",
              "      <td>60</td>\n",
              "    </tr>\n",
              "    <tr>\n",
              "      <th>8</th>\n",
              "      <td>13358</td>\n",
              "      <td>2020-11-13</td>\n",
              "      <td>f</td>\n",
              "      <td>$85.00</td>\n",
              "      <td>$85.00</td>\n",
              "      <td>30</td>\n",
              "      <td>60</td>\n",
              "    </tr>\n",
              "    <tr>\n",
              "      <th>9</th>\n",
              "      <td>13358</td>\n",
              "      <td>2020-11-14</td>\n",
              "      <td>f</td>\n",
              "      <td>$85.00</td>\n",
              "      <td>$85.00</td>\n",
              "      <td>30</td>\n",
              "      <td>60</td>\n",
              "    </tr>\n",
              "  </tbody>\n",
              "</table>\n",
              "</div>"
            ],
            "text/plain": [
              "   listing_id        date  ... minimum_nights maximum_nights\n",
              "0     2003897  2020-11-06  ...            120           1125\n",
              "1       13358  2020-11-06  ...             30             60\n",
              "2       13358  2020-11-07  ...             30             60\n",
              "3       13358  2020-11-08  ...             30             60\n",
              "4       13358  2020-11-09  ...             30             60\n",
              "5       13358  2020-11-10  ...             30             60\n",
              "6       13358  2020-11-11  ...             30             60\n",
              "7       13358  2020-11-12  ...             30             60\n",
              "8       13358  2020-11-13  ...             30             60\n",
              "9       13358  2020-11-14  ...             30             60\n",
              "\n",
              "[10 rows x 7 columns]"
            ]
          },
          "metadata": {
            "tags": []
          },
          "execution_count": 5
        }
      ]
    },
    {
      "cell_type": "markdown",
      "metadata": {
        "id": "fR0Wi3Y2oiK1"
      },
      "source": [
        "After an overview analysis about what kind of information we have, was decided to use the calendar database for this first business question."
      ]
    },
    {
      "cell_type": "code",
      "metadata": {
        "colab": {
          "base_uri": "https://localhost:8080/"
        },
        "id": "EOM697tzkdaU",
        "outputId": "c5142ccd-396d-4fa2-fd91-bfe51d51375a"
      },
      "source": [
        "bc_calendar.info()"
      ],
      "execution_count": 6,
      "outputs": [
        {
          "output_type": "stream",
          "text": [
            "<class 'pandas.core.frame.DataFrame'>\n",
            "RangeIndex: 1727910 entries, 0 to 1727909\n",
            "Data columns (total 7 columns):\n",
            " #   Column          Dtype \n",
            "---  ------          ----- \n",
            " 0   listing_id      int64 \n",
            " 1   date            object\n",
            " 2   available       object\n",
            " 3   price           object\n",
            " 4   adjusted_price  object\n",
            " 5   minimum_nights  int64 \n",
            " 6   maximum_nights  int64 \n",
            "dtypes: int64(3), object(4)\n",
            "memory usage: 92.3+ MB\n"
          ],
          "name": "stdout"
        }
      ]
    },
    {
      "cell_type": "markdown",
      "metadata": {
        "id": "o9jini0rkgEc"
      },
      "source": [
        "Notice the price is as an object. So, to make a temporal analysis should be changed to float"
      ]
    },
    {
      "cell_type": "code",
      "metadata": {
        "id": "xq-Oefkskpru"
      },
      "source": [
        "import re\r\n",
        "bc_calendar['price'] = [float(re.sub('[^0-9\\.]', '', price)) for price in bc_calendar['price']]"
      ],
      "execution_count": 7,
      "outputs": []
    },
    {
      "cell_type": "code",
      "metadata": {
        "colab": {
          "base_uri": "https://localhost:8080/"
        },
        "id": "fBndH5DplYyf",
        "outputId": "d7450bef-ef38-4229-f8db-8862729af179"
      },
      "source": [
        "bc_calendar['price']"
      ],
      "execution_count": 8,
      "outputs": [
        {
          "output_type": "execute_result",
          "data": {
            "text/plain": [
              "0          120.0\n",
              "1           85.0\n",
              "2           85.0\n",
              "3           85.0\n",
              "4           85.0\n",
              "           ...  \n",
              "1727905    150.0\n",
              "1727906    150.0\n",
              "1727907    150.0\n",
              "1727908    150.0\n",
              "1727909    150.0\n",
              "Name: price, Length: 1727910, dtype: float64"
            ]
          },
          "metadata": {
            "tags": []
          },
          "execution_count": 8
        }
      ]
    },
    {
      "cell_type": "code",
      "metadata": {
        "colab": {
          "base_uri": "https://localhost:8080/"
        },
        "id": "8q-t-34Zm351",
        "outputId": "bd2ed1e2-74ea-4b1f-c4db-877ca0bb62aa"
      },
      "source": [
        "bc_calendar.info()"
      ],
      "execution_count": 9,
      "outputs": [
        {
          "output_type": "stream",
          "text": [
            "<class 'pandas.core.frame.DataFrame'>\n",
            "RangeIndex: 1727910 entries, 0 to 1727909\n",
            "Data columns (total 7 columns):\n",
            " #   Column          Dtype  \n",
            "---  ------          -----  \n",
            " 0   listing_id      int64  \n",
            " 1   date            object \n",
            " 2   available       object \n",
            " 3   price           float64\n",
            " 4   adjusted_price  object \n",
            " 5   minimum_nights  int64  \n",
            " 6   maximum_nights  int64  \n",
            "dtypes: float64(1), int64(3), object(3)\n",
            "memory usage: 92.3+ MB\n"
          ],
          "name": "stdout"
        }
      ]
    },
    {
      "cell_type": "markdown",
      "metadata": {
        "id": "DAvwXcpQpWU7"
      },
      "source": [
        "Let's check the range of dates"
      ]
    },
    {
      "cell_type": "code",
      "metadata": {
        "colab": {
          "base_uri": "https://localhost:8080/"
        },
        "id": "3cIBiGj_Jdm2",
        "outputId": "ede27e3e-dfcf-4d2d-c209-38dfb536e55d"
      },
      "source": [
        "print(bc_calendar['date'].min())\r\n",
        "print(bc_calendar['date'].max())"
      ],
      "execution_count": 10,
      "outputs": [
        {
          "output_type": "stream",
          "text": [
            "2020-11-06\n",
            "2021-11-05\n"
          ],
          "name": "stdout"
        }
      ]
    },
    {
      "cell_type": "markdown",
      "metadata": {
        "id": "DVctKL5vpcbK"
      },
      "source": [
        "Grouping the prices with respective accommodation id, and making some analysis to identify if we have price information for all dates for each accommodation. In case yes, we can use an average of prices to evaluate it behavior."
      ]
    },
    {
      "cell_type": "code",
      "metadata": {
        "colab": {
          "base_uri": "https://localhost:8080/",
          "height": 388
        },
        "id": "TBiXtqKpJ18C",
        "outputId": "54981862-1f08-4032-92f7-5e3cf0a74e8b"
      },
      "source": [
        "price = bc_calendar.groupby(['listing_id','date'])['price'].sum().reset_index()\r\n",
        "price"
      ],
      "execution_count": 11,
      "outputs": [
        {
          "output_type": "execute_result",
          "data": {
            "text/html": [
              "<div>\n",
              "<style scoped>\n",
              "    .dataframe tbody tr th:only-of-type {\n",
              "        vertical-align: middle;\n",
              "    }\n",
              "\n",
              "    .dataframe tbody tr th {\n",
              "        vertical-align: top;\n",
              "    }\n",
              "\n",
              "    .dataframe thead th {\n",
              "        text-align: right;\n",
              "    }\n",
              "</style>\n",
              "<table border=\"1\" class=\"dataframe\">\n",
              "  <thead>\n",
              "    <tr style=\"text-align: right;\">\n",
              "      <th></th>\n",
              "      <th>listing_id</th>\n",
              "      <th>date</th>\n",
              "      <th>price</th>\n",
              "    </tr>\n",
              "  </thead>\n",
              "  <tbody>\n",
              "    <tr>\n",
              "      <th>0</th>\n",
              "      <td>10080</td>\n",
              "      <td>2020-11-06</td>\n",
              "      <td>150.0</td>\n",
              "    </tr>\n",
              "    <tr>\n",
              "      <th>1</th>\n",
              "      <td>10080</td>\n",
              "      <td>2020-11-07</td>\n",
              "      <td>150.0</td>\n",
              "    </tr>\n",
              "    <tr>\n",
              "      <th>2</th>\n",
              "      <td>10080</td>\n",
              "      <td>2020-11-08</td>\n",
              "      <td>150.0</td>\n",
              "    </tr>\n",
              "    <tr>\n",
              "      <th>3</th>\n",
              "      <td>10080</td>\n",
              "      <td>2020-11-09</td>\n",
              "      <td>150.0</td>\n",
              "    </tr>\n",
              "    <tr>\n",
              "      <th>4</th>\n",
              "      <td>10080</td>\n",
              "      <td>2020-11-10</td>\n",
              "      <td>150.0</td>\n",
              "    </tr>\n",
              "    <tr>\n",
              "      <th>...</th>\n",
              "      <td>...</td>\n",
              "      <td>...</td>\n",
              "      <td>...</td>\n",
              "    </tr>\n",
              "    <tr>\n",
              "      <th>1727905</th>\n",
              "      <td>46261278</td>\n",
              "      <td>2021-11-01</td>\n",
              "      <td>142.0</td>\n",
              "    </tr>\n",
              "    <tr>\n",
              "      <th>1727906</th>\n",
              "      <td>46261278</td>\n",
              "      <td>2021-11-02</td>\n",
              "      <td>132.0</td>\n",
              "    </tr>\n",
              "    <tr>\n",
              "      <th>1727907</th>\n",
              "      <td>46261278</td>\n",
              "      <td>2021-11-03</td>\n",
              "      <td>142.0</td>\n",
              "    </tr>\n",
              "    <tr>\n",
              "      <th>1727908</th>\n",
              "      <td>46261278</td>\n",
              "      <td>2021-11-04</td>\n",
              "      <td>152.0</td>\n",
              "    </tr>\n",
              "    <tr>\n",
              "      <th>1727909</th>\n",
              "      <td>46261278</td>\n",
              "      <td>2021-11-05</td>\n",
              "      <td>232.0</td>\n",
              "    </tr>\n",
              "  </tbody>\n",
              "</table>\n",
              "<p>1727910 rows × 3 columns</p>\n",
              "</div>"
            ],
            "text/plain": [
              "         listing_id        date  price\n",
              "0             10080  2020-11-06  150.0\n",
              "1             10080  2020-11-07  150.0\n",
              "2             10080  2020-11-08  150.0\n",
              "3             10080  2020-11-09  150.0\n",
              "4             10080  2020-11-10  150.0\n",
              "...             ...         ...    ...\n",
              "1727905    46261278  2021-11-01  142.0\n",
              "1727906    46261278  2021-11-02  132.0\n",
              "1727907    46261278  2021-11-03  142.0\n",
              "1727908    46261278  2021-11-04  152.0\n",
              "1727909    46261278  2021-11-05  232.0\n",
              "\n",
              "[1727910 rows x 3 columns]"
            ]
          },
          "metadata": {
            "tags": []
          },
          "execution_count": 11
        }
      ]
    },
    {
      "cell_type": "code",
      "metadata": {
        "id": "2c3JMBaj-Kvq"
      },
      "source": [
        "teste = price[price['listing_id'] == 10080]"
      ],
      "execution_count": 12,
      "outputs": []
    },
    {
      "cell_type": "code",
      "metadata": {
        "colab": {
          "base_uri": "https://localhost:8080/",
          "height": 388
        },
        "id": "ohDftcnGAMKA",
        "outputId": "cda8cb4e-ea8d-4953-fe55-7dbfe66324f5"
      },
      "source": [
        "teste"
      ],
      "execution_count": 13,
      "outputs": [
        {
          "output_type": "execute_result",
          "data": {
            "text/html": [
              "<div>\n",
              "<style scoped>\n",
              "    .dataframe tbody tr th:only-of-type {\n",
              "        vertical-align: middle;\n",
              "    }\n",
              "\n",
              "    .dataframe tbody tr th {\n",
              "        vertical-align: top;\n",
              "    }\n",
              "\n",
              "    .dataframe thead th {\n",
              "        text-align: right;\n",
              "    }\n",
              "</style>\n",
              "<table border=\"1\" class=\"dataframe\">\n",
              "  <thead>\n",
              "    <tr style=\"text-align: right;\">\n",
              "      <th></th>\n",
              "      <th>listing_id</th>\n",
              "      <th>date</th>\n",
              "      <th>price</th>\n",
              "    </tr>\n",
              "  </thead>\n",
              "  <tbody>\n",
              "    <tr>\n",
              "      <th>0</th>\n",
              "      <td>10080</td>\n",
              "      <td>2020-11-06</td>\n",
              "      <td>150.0</td>\n",
              "    </tr>\n",
              "    <tr>\n",
              "      <th>1</th>\n",
              "      <td>10080</td>\n",
              "      <td>2020-11-07</td>\n",
              "      <td>150.0</td>\n",
              "    </tr>\n",
              "    <tr>\n",
              "      <th>2</th>\n",
              "      <td>10080</td>\n",
              "      <td>2020-11-08</td>\n",
              "      <td>150.0</td>\n",
              "    </tr>\n",
              "    <tr>\n",
              "      <th>3</th>\n",
              "      <td>10080</td>\n",
              "      <td>2020-11-09</td>\n",
              "      <td>150.0</td>\n",
              "    </tr>\n",
              "    <tr>\n",
              "      <th>4</th>\n",
              "      <td>10080</td>\n",
              "      <td>2020-11-10</td>\n",
              "      <td>150.0</td>\n",
              "    </tr>\n",
              "    <tr>\n",
              "      <th>...</th>\n",
              "      <td>...</td>\n",
              "      <td>...</td>\n",
              "      <td>...</td>\n",
              "    </tr>\n",
              "    <tr>\n",
              "      <th>360</th>\n",
              "      <td>10080</td>\n",
              "      <td>2021-11-01</td>\n",
              "      <td>150.0</td>\n",
              "    </tr>\n",
              "    <tr>\n",
              "      <th>361</th>\n",
              "      <td>10080</td>\n",
              "      <td>2021-11-02</td>\n",
              "      <td>150.0</td>\n",
              "    </tr>\n",
              "    <tr>\n",
              "      <th>362</th>\n",
              "      <td>10080</td>\n",
              "      <td>2021-11-03</td>\n",
              "      <td>150.0</td>\n",
              "    </tr>\n",
              "    <tr>\n",
              "      <th>363</th>\n",
              "      <td>10080</td>\n",
              "      <td>2021-11-04</td>\n",
              "      <td>150.0</td>\n",
              "    </tr>\n",
              "    <tr>\n",
              "      <th>364</th>\n",
              "      <td>10080</td>\n",
              "      <td>2021-11-05</td>\n",
              "      <td>150.0</td>\n",
              "    </tr>\n",
              "  </tbody>\n",
              "</table>\n",
              "<p>365 rows × 3 columns</p>\n",
              "</div>"
            ],
            "text/plain": [
              "     listing_id        date  price\n",
              "0         10080  2020-11-06  150.0\n",
              "1         10080  2020-11-07  150.0\n",
              "2         10080  2020-11-08  150.0\n",
              "3         10080  2020-11-09  150.0\n",
              "4         10080  2020-11-10  150.0\n",
              "..          ...         ...    ...\n",
              "360       10080  2021-11-01  150.0\n",
              "361       10080  2021-11-02  150.0\n",
              "362       10080  2021-11-03  150.0\n",
              "363       10080  2021-11-04  150.0\n",
              "364       10080  2021-11-05  150.0\n",
              "\n",
              "[365 rows x 3 columns]"
            ]
          },
          "metadata": {
            "tags": []
          },
          "execution_count": 13
        }
      ]
    },
    {
      "cell_type": "markdown",
      "metadata": {
        "id": "RKYfd3pBqcz-"
      },
      "source": [
        "We have the prices for 1 year, for each acccommodation, in other words we can use the average."
      ]
    },
    {
      "cell_type": "code",
      "metadata": {
        "colab": {
          "base_uri": "https://localhost:8080/"
        },
        "id": "s-7lTOYUvSMI",
        "outputId": "131a99b2-fc4b-4240-e678-9e7a77098611"
      },
      "source": [
        "print(price['date'].isna().sum())\r\n",
        "print(price['price'].isna().sum())"
      ],
      "execution_count": 14,
      "outputs": [
        {
          "output_type": "stream",
          "text": [
            "0\n",
            "0\n"
          ],
          "name": "stdout"
        }
      ]
    },
    {
      "cell_type": "code",
      "metadata": {
        "id": "QzxB7hTqA294"
      },
      "source": [
        "price = price.drop('listing_id', axis = 1)"
      ],
      "execution_count": 15,
      "outputs": []
    },
    {
      "cell_type": "markdown",
      "metadata": {
        "id": "2TYEE1lBycJB"
      },
      "source": [
        "Putting date as index in order to plot the temporal series."
      ]
    },
    {
      "cell_type": "code",
      "metadata": {
        "colab": {
          "base_uri": "https://localhost:8080/"
        },
        "id": "laeZibssuyDb",
        "outputId": "ff0b9cd0-3430-411e-a61e-85110258b69f"
      },
      "source": [
        "price = price.set_index('date')\r\n",
        "price.index = pd.to_datetime(price.index)\r\n",
        "price.index"
      ],
      "execution_count": 16,
      "outputs": [
        {
          "output_type": "execute_result",
          "data": {
            "text/plain": [
              "DatetimeIndex(['2020-11-06', '2020-11-07', '2020-11-08', '2020-11-09',\n",
              "               '2020-11-10', '2020-11-11', '2020-11-12', '2020-11-13',\n",
              "               '2020-11-14', '2020-11-15',\n",
              "               ...\n",
              "               '2021-10-27', '2021-10-28', '2021-10-29', '2021-10-30',\n",
              "               '2021-10-31', '2021-11-01', '2021-11-02', '2021-11-03',\n",
              "               '2021-11-04', '2021-11-05'],\n",
              "              dtype='datetime64[ns]', name='date', length=1727910, freq=None)"
            ]
          },
          "metadata": {
            "tags": []
          },
          "execution_count": 16
        }
      ]
    },
    {
      "cell_type": "code",
      "metadata": {
        "id": "BYGdQDMl9mo4"
      },
      "source": [
        "price = price.resample('M').mean()"
      ],
      "execution_count": 17,
      "outputs": []
    },
    {
      "cell_type": "markdown",
      "metadata": {
        "id": "H-1aVQ5zyoxK"
      },
      "source": [
        "Checking the index..."
      ]
    },
    {
      "cell_type": "code",
      "metadata": {
        "colab": {
          "base_uri": "https://localhost:8080/"
        },
        "id": "LugGaUZsQ-bg",
        "outputId": "314993f7-8ed6-4bad-d38e-54ac28353dd3"
      },
      "source": [
        "price.index.unique()"
      ],
      "execution_count": 18,
      "outputs": [
        {
          "output_type": "execute_result",
          "data": {
            "text/plain": [
              "DatetimeIndex(['2020-11-30', '2020-12-31', '2021-01-31', '2021-02-28',\n",
              "               '2021-03-31', '2021-04-30', '2021-05-31', '2021-06-30',\n",
              "               '2021-07-31', '2021-08-31', '2021-09-30', '2021-10-31',\n",
              "               '2021-11-30'],\n",
              "              dtype='datetime64[ns]', name='date', freq=None)"
            ]
          },
          "metadata": {
            "tags": []
          },
          "execution_count": 18
        }
      ]
    },
    {
      "cell_type": "code",
      "metadata": {
        "colab": {
          "base_uri": "https://localhost:8080/"
        },
        "id": "lVHuhz28BHkh",
        "outputId": "4ccbe812-aef6-4aed-c7e9-070abe32ca8e"
      },
      "source": [
        "y = price['price']\r\n",
        "y['2021':]"
      ],
      "execution_count": 19,
      "outputs": [
        {
          "output_type": "execute_result",
          "data": {
            "text/plain": [
              "date\n",
              "2021-01-31    160.743428\n",
              "2021-02-28    160.651752\n",
              "2021-03-31    163.321054\n",
              "2021-04-30    166.073539\n",
              "2021-05-31    169.787508\n",
              "2021-06-30    172.224250\n",
              "2021-07-31    173.759952\n",
              "2021-08-31    173.825463\n",
              "2021-09-30    170.586544\n",
              "2021-10-31    168.588965\n",
              "2021-11-30    168.589480\n",
              "Freq: M, Name: price, dtype: float64"
            ]
          },
          "metadata": {
            "tags": []
          },
          "execution_count": 19
        }
      ]
    },
    {
      "cell_type": "code",
      "metadata": {
        "id": "cr0TCD49CZqJ"
      },
      "source": [
        "y = y[-11:]"
      ],
      "execution_count": 20,
      "outputs": []
    },
    {
      "cell_type": "code",
      "metadata": {
        "colab": {
          "base_uri": "https://localhost:8080/",
          "height": 406
        },
        "id": "QSmNXF69oNBl",
        "outputId": "83d864e4-007a-49d5-a54d-e1ea05229731"
      },
      "source": [
        "y.plot(figsize=(15, 6))\r\n",
        "plt.show()\r\n"
      ],
      "execution_count": 21,
      "outputs": [
        {
          "output_type": "display_data",
          "data": {
            "image/png": "[encoded data removed]",
            "text/plain": [
              "<Figure size 1080x432 with 1 Axes>"
            ]
          },
          "metadata": {
            "tags": [],
            "needs_background": "light"
          }
        }
      ]
    }
  ]
}